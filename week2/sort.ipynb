{
 "cells": [
  {
   "cell_type": "code",
   "execution_count": null,
   "id": "e0726fc2",
   "metadata": {},
   "outputs": [],
   "source": [
    "def selection_sort(L):\n",
    "    n=len(L)\n",
    "    if n<1:\n",
    "        return L\n",
    "    \n",
    "    for i in range(n):\n",
    "        mpos=i\n",
    "        for j in range(i+1,n):\n",
    "            if L[j]<L[mpos]:\n",
    "                mpos=j\n",
    "        L[i],L[mpos]=L[mpos],L[i]\n",
    "    return L\n"
   ]
  },
  {
   "cell_type": "code",
   "execution_count": null,
   "id": "362065d0",
   "metadata": {},
   "outputs": [],
   "source": [
    "# python - 10**7\n",
    "# sorting 10**4 -> O(n**2)-> 10**8 operations\n",
    "\n",
    "# - 10 seconds"
   ]
  },
  {
   "cell_type": "code",
   "execution_count": null,
   "id": "ab8347c1",
   "metadata": {},
   "outputs": [],
   "source": []
  },
  {
   "cell_type": "markdown",
   "id": "3bb3b461",
   "metadata": {},
   "source": [
    "# merge two sorted arrays\n",
    "- STEP 1 : \n",
    "- initialize the m,n as the length of arrays\n",
    "- initialize C,i,j,k\n",
    "    - C - empty array -> single sorted list\n",
    "    - i -> l1's current position\n",
    "    - j -> l2's current position\n",
    "    - k -> how many we have completed in total\n",
    "     \n",
    "\n",
    "# STEP 2:\n",
    "    - while k<m+n:\n",
    "        if i equals m:"
   ]
  },
  {
   "cell_type": "code",
   "execution_count": 9,
   "id": "a45d7474",
   "metadata": {},
   "outputs": [
    {
     "name": "stdout",
     "output_type": "stream",
     "text": [
      "[1, 2, 3, 4]\n",
      "4\n"
     ]
    }
   ],
   "source": [
    "a=[1,2]\n",
    "b=[3,4]\n",
    "a.extend(b)\n",
    "print(a)\n",
    "print(len(a))\n"
   ]
  },
  {
   "cell_type": "code",
   "execution_count": 8,
   "id": "142f324f",
   "metadata": {},
   "outputs": [
    {
     "name": "stdout",
     "output_type": "stream",
     "text": [
      "[1, 2, [3, 4]]\n",
      "3\n"
     ]
    }
   ],
   "source": [
    "a=[1,2]\n",
    "b=[3,4]\n",
    "a.append(b)\n",
    "print(a)\n",
    "print(len(a))\n"
   ]
  },
  {
   "cell_type": "code",
   "execution_count": null,
   "id": "91147109",
   "metadata": {},
   "outputs": [],
   "source": []
  },
  {
   "cell_type": "code",
   "execution_count": 6,
   "id": "350bbea2",
   "metadata": {},
   "outputs": [
    {
     "data": {
      "text/plain": [
       "[1, 2, 2, 3, 6, 8, 9]"
      ]
     },
     "execution_count": 6,
     "metadata": {},
     "output_type": "execute_result"
    }
   ],
   "source": [
    "\n",
    "\n",
    "l1=[1,2,3]\n",
    "l2=[2,6,8,9]\n",
    "\n",
    "\n",
    "\n",
    "\n",
    "def merge(l1,l2):\n",
    "    m,n=len(l1),len(l2) # 3,2\n",
    "    C,i,j,k=[],0,0,0 # c=[1,2,2,3,6,8,9],i=3,j=1,k=7\n",
    "    while k<m+n:# 7 < 7\n",
    "        if i==m: # 3==3?\n",
    "            C.extend(l2[j:])#l2[1:]=[]\n",
    "            k=k+(n-j) # k=4+(4-1)=7\n",
    "        elif j==n:# 1==4\n",
    "            C.extend(l1[i:])\n",
    "            k=k+(m-i)\n",
    "        elif l1[i]<l2[j]: # l1[2]<l2[1]: 3<6\n",
    "            C.append(l1[i])\n",
    "            i,k=i+1,k+1\n",
    "        else:\n",
    "            C.append(l2[j])\n",
    "            j,k=j+1,k+1\n",
    "    return C\n",
    "# c = [ 1,2,2,3,6,8,9]\n",
    "\n",
    "merge(l1,l2)\n",
    "\n",
    "\n",
    "\n",
    "\n",
    "\n"
   ]
  },
  {
   "cell_type": "code",
   "execution_count": null,
   "id": "55e39cae",
   "metadata": {},
   "outputs": [
    {
     "data": {
      "text/plain": [
       "[1, 2, 3, 4, 5, 6, 7, 8, 9]"
      ]
     },
     "execution_count": 8,
     "metadata": {},
     "output_type": "execute_result"
    }
   ],
   "source": [
    "l=[1,4,2,3,5,6,9,7,8]\n",
    "\n",
    "def merge_sort(l):\n",
    "    n=len(l)\n",
    "    if n<=1:# remember to put less than or equal to,\n",
    "        return l\n",
    "    left=merge_sort(l[:n//2])\n",
    "    right=merge_sort(l[n//2:])\n",
    "\n",
    "    op=merge(left,right)\n",
    "    return op\n",
    "merge_sort(l)\n",
    "    "
   ]
  },
  {
   "cell_type": "code",
   "execution_count": 17,
   "id": "61ce7700",
   "metadata": {},
   "outputs": [
    {
     "data": {
      "text/plain": [
       "[1, 2, 3, 4, 6, 7, 9]"
      ]
     },
     "execution_count": 17,
     "metadata": {},
     "output_type": "execute_result"
    }
   ],
   "source": [
    "l=[1,4,2,3,9,6,7]\n",
    "def insertion_sort(l): # l=[1,2,3,4]\n",
    "    n=len(l)\n",
    "    if n<=1:\n",
    "        return l\n",
    "    for i in range(n):\n",
    "        j=i\n",
    "        while (j>0 and l[j-1]>l[j]):\n",
    "            l[j-1],l[j]=l[j],l[j-1]\n",
    "            j=j-1\n",
    "    return l\n",
    "\n",
    "\n",
    "insertion_sort(l)"
   ]
  },
  {
   "cell_type": "code",
   "execution_count": null,
   "id": "b3120155",
   "metadata": {},
   "outputs": [],
   "source": []
  }
 ],
 "metadata": {
  "kernelspec": {
   "display_name": "Python 3",
   "language": "python",
   "name": "python3"
  },
  "language_info": {
   "codemirror_mode": {
    "name": "ipython",
    "version": 3
   },
   "file_extension": ".py",
   "mimetype": "text/x-python",
   "name": "python",
   "nbconvert_exporter": "python",
   "pygments_lexer": "ipython3",
   "version": "3.11.0rc1"
  }
 },
 "nbformat": 4,
 "nbformat_minor": 5
}
