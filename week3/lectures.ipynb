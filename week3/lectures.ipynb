{
 "cells": [
  {
   "cell_type": "code",
   "execution_count": null,
   "id": "52920ff8",
   "metadata": {},
   "outputs": [
    {
     "data": {
      "text/plain": [
       "[7, 8, 10, 20, 30, 60, 100]"
      ]
     },
     "execution_count": 4,
     "metadata": {},
     "output_type": "execute_result"
    }
   ],
   "source": [
    "def partition(L,lower,upper):# l= [30, 60,7,8,10, 20, 100] , lower=2, upper=4\n",
    "  pivot = L[lower] # \n",
    "  i = lower # 3\n",
    "  for j in range(lower+1,upper+1): # j=3...4\n",
    "    if L[j] <= pivot: #  7 <= 8\n",
    "      i += 1\n",
    "      L[i],L[j] = L[j],L[i]\n",
    "  L[lower],L[i]= L[i],L[lower] # 2 , 3\n",
    "  return i\n",
    "\n",
    "def quicksort(L,lower,upper):\n",
    "  if(lower < upper): # \n",
    "    pivot_pos = partition(L,lower,upper) # \n",
    "    quicksort(L,lower,pivot_pos-1)\n",
    "    quicksort(L,pivot_pos+1,upper)\n",
    "  return L\n",
    "\n",
    "\n",
    "l=[30, 60, 8, 10, 7, 20, 100]\n",
    "\n",
    "quicksort(l,2,4)\n",
    "# [1,8,10]\n",
    "# [2,3,6]\n",
    "# [3,6,1,8,10,1,2,1]"
   ]
  },
  {
   "cell_type": "code",
   "execution_count": null,
   "id": "043247c7",
   "metadata": {},
   "outputs": [],
   "source": [
    "# part func :\n",
    "    # - pivot , i -> initialize\n",
    "    # for j in range()\n",
    "    # if l[j] and pivot , i+ , swap i,j of l\n",
    "    # swap lower and i, return i\n",
    "\n",
    "# quick sort\n",
    "    "
   ]
  },
  {
   "cell_type": "code",
   "execution_count": null,
   "id": "9dc146cf",
   "metadata": {},
   "outputs": [
    {
     "data": {
      "text/plain": [
       "[2, 3, 4]"
      ]
     },
     "execution_count": 5,
     "metadata": {},
     "output_type": "execute_result"
    }
   ],
   "source": [
    "def partition(l,lower,upper):\n",
    "    pivor=l[lower]\n",
    "    i=lower\n",
    "    for j in range(lower+1,upper+1):\n",
    "        if l[j]<=pivor:\n",
    "            i+=1\n",
    "            l[i],l[j]=l[j],l[i]\n",
    "    l[lower],l[i]=l[i],l[lower]\n",
    "    return i\n",
    "\n",
    "def quicksort(l,lower , upper):\n",
    "    if lower<upper:\n",
    "        pivor_pos=partition(l,lower,upper)\n",
    "        quicksort(l,lower,pivor_pos-1)\n",
    "        quicksort(l,pivor_pos+1,upper)\n",
    "    return l\n",
    "\n",
    "l=[2,4,3]\n",
    "quicksort(l,0,2)\n",
    "    "
   ]
  },
  {
   "cell_type": "code",
   "execution_count": null,
   "id": "f6f45ce7",
   "metadata": {},
   "outputs": [],
   "source": []
  }
 ],
 "metadata": {
  "kernelspec": {
   "display_name": "Python 3",
   "language": "python",
   "name": "python3"
  },
  "language_info": {
   "codemirror_mode": {
    "name": "ipython",
    "version": 3
   },
   "file_extension": ".py",
   "mimetype": "text/x-python",
   "name": "python",
   "nbconvert_exporter": "python",
   "pygments_lexer": "ipython3",
   "version": "3.11.0rc1"
  }
 },
 "nbformat": 4,
 "nbformat_minor": 5
}
