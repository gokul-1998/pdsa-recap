{
 "cells": [
  {
   "cell_type": "code",
   "execution_count": 6,
   "id": "03aba410",
   "metadata": {},
   "outputs": [
    {
     "name": "stdout",
     "output_type": "stream",
     "text": [
      "100 6\n",
      "6 94\n",
      "6 88\n",
      "6 82\n",
      "6 76\n",
      "6 70\n",
      "6 64\n",
      "6 58\n",
      "6 52\n",
      "6 46\n",
      "6 40\n",
      "6 34\n",
      "6 28\n",
      "6 22\n",
      "6 16\n",
      "6 10\n",
      "6 4\n",
      "4 2\n"
     ]
    },
    {
     "data": {
      "text/plain": [
       "2"
      ]
     },
     "execution_count": 6,
     "metadata": {},
     "output_type": "execute_result"
    }
   ],
   "source": [
    "def gcd(a,b):\n",
    "    print(a,b)\n",
    "    maxi=max(a,b)\n",
    "    mini=min(a,b)\n",
    "    if maxi%mini==0:\n",
    "        return mini\n",
    "    else:\n",
    "        return gcd(mini,maxi-mini)\n",
    "\n",
    "\n",
    "\n",
    "gcd(100,6)"
   ]
  },
  {
   "cell_type": "code",
   "execution_count": 7,
   "id": "12f73a14",
   "metadata": {},
   "outputs": [
    {
     "name": "stdout",
     "output_type": "stream",
     "text": [
      "100 6\n",
      "6 4\n",
      "4 2\n"
     ]
    },
    {
     "data": {
      "text/plain": [
       "2"
      ]
     },
     "execution_count": 7,
     "metadata": {},
     "output_type": "execute_result"
    }
   ],
   "source": [
    "def gcd(a,b):\n",
    "    print(a,b)\n",
    "    maxi=max(a,b)\n",
    "    mini=min(a,b)\n",
    "    if maxi%mini==0:\n",
    "        return mini\n",
    "    else:\n",
    "        return gcd(mini,maxi%mini)\n",
    "\n",
    "\n",
    "\n",
    "gcd(100,6)"
   ]
  },
  {
   "cell_type": "code",
   "execution_count": null,
   "id": "01825399",
   "metadata": {},
   "outputs": [],
   "source": [
    "# first 100 primes\n",
    "# \n",
    "\n",
    "# o(1),O(logn),O(N**0.5),O(n),O(nlogn),O(n**2),O(2**n),O(n!)\n",
    "# binary search\n",
    "# selection sort\n",
    "# insertion sort\n",
    "# merge sort\n",
    "# quick sort\n",
    "# List vs arrays\n",
    "# linked list\n",
    "# inplace and not in place sort\n",
    "# stable vs unstable sort\n",
    "# doubly linked list\n"
   ]
  }
 ],
 "metadata": {
  "kernelspec": {
   "display_name": "Python 3",
   "language": "python",
   "name": "python3"
  },
  "language_info": {
   "codemirror_mode": {
    "name": "ipython",
    "version": 3
   },
   "file_extension": ".py",
   "mimetype": "text/x-python",
   "name": "python",
   "nbconvert_exporter": "python",
   "pygments_lexer": "ipython3",
   "version": "3.11.0rc1"
  }
 },
 "nbformat": 4,
 "nbformat_minor": 5
}
