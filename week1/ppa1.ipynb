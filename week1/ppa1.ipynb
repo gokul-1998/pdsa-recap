{
 "cells": [
  {
   "cell_type": "markdown",
   "id": "ca7dd0ca",
   "metadata": {},
   "source": [
    "## PPA 1"
   ]
  },
  {
   "cell_type": "markdown",
   "id": "6e93a451",
   "metadata": {},
   "source": [
    "Twin primes are pairs of prime numbers that differ by 2. For example (3, 5), (5, 7), and (11,13) are twin primes.\n",
    "Write a function Twin_Primes(n, m) where n and m are positive integers and n < m , that returns all unique twin primes between m and n (both inclusive). The function returns a list of tuples and each tuple (a,b) represents one unique twin prime where n <= a < b <= m."
   ]
  },
  {
   "cell_type": "markdown",
   "id": "34a7c467",
   "metadata": {},
   "source": [
    "TC 1\n",
    "- input \n",
    "1\n",
    "15\n",
    "- Expected output\n",
    "[(3, 5), (5, 7), (11, 13)]\n",
    "\n",
    "TC 2\n",
    "- input\n",
    "11\n",
    "25\n",
    "- Expected output\n",
    "[(11, 13), (17, 19)]\n",
    "\n",
    "TC 3\n",
    "- input\n",
    "5\n",
    "50\n",
    "- Expected output\n",
    "[(5, 7), (11, 13), (17, 19), (29, 31), (41, 43)]\n",
    "\n"
   ]
  },
  {
   "cell_type": "code",
   "execution_count": null,
   "id": "7b4a2e84",
   "metadata": {
    "vscode": {
     "languageId": "plaintext"
    }
   },
   "outputs": [],
   "source": [
    "# Write your code here"
   ]
  }
 ],
 "metadata": {
  "language_info": {
   "name": "python"
  }
 },
 "nbformat": 4,
 "nbformat_minor": 5
}
