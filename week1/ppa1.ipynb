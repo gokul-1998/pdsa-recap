{
 "cells": [
  {
   "cell_type": "markdown",
   "id": "ca7dd0ca",
   "metadata": {},
   "source": [
    "## PPA 1"
   ]
  },
  {
   "cell_type": "markdown",
   "id": "6e93a451",
   "metadata": {},
   "source": [
    "## Twin primes are pairs of prime numbers that differ by 2. For example (3, 5), (5, 7), and (11,13) are twin primes.Write a function Twin_Primes(n, m) where n and m are positive integers and n < m , that returns all unique twin primes between m and n (both inclusive). The function returns a list of tuples and each tuple (a,b) represents one unique twin prime where n <= a < b <= m."
   ]
  },
  {
   "cell_type": "markdown",
   "id": "34a7c467",
   "metadata": {},
   "source": [
    "```\n",
    "TC 1\n",
    "- input \n",
    "1\n",
    "15\n",
    "- Expected output\n",
    "[(3, 5), (5, 7), (11, 13)]\n",
    "\n",
    "TC 2\n",
    "- input\n",
    "11\n",
    "25\n",
    "- Expected output\n",
    "[(11, 13), (17, 19)]\n",
    "\n",
    "TC 3\n",
    "- input\n",
    "5\n",
    "50\n",
    "- Expected output\n",
    "[(5, 7), (11, 13), (17, 19), (29, 31), (41, 43)]\n",
    "```\n",
    "\n"
   ]
  },
  {
   "cell_type": "code",
   "execution_count": null,
   "id": "7b4a2e84",
   "metadata": {},
   "outputs": [],
   "source": [
    "# write your code here\n",
    "\n",
    "def isprime(n):\n",
    "    if n<2:\n",
    "        return False\n",
    "    for i in range(2,int(n**0.5)+1):\n",
    "        if n%i==0:\n",
    "            return False\n",
    "    return True\n",
    "\n",
    "# for i in range(2,100):\n",
    "#     if isprime(i):\n",
    "#         print(i)\n",
    "\n",
    "def twin_primes(n,m):\n",
    "    primes=[]\n",
    "    twin_primes=[]\n",
    "    for i in range(n,m+1):\n",
    "        if isprime(i):\n",
    "            if primes and primes[-1]+2==i:\n",
    "                twin_primes.append((i-2,i))\n",
    "            primes.append(i)\n",
    "    return twin_primes\n",
    "\n",
    "\n",
    "print(twin_primes(1,15))\n",
    "print(twin_primes(11,25))\n",
    "print(twin_primes(5,50))"
   ]
  },
  {
   "cell_type": "markdown",
   "id": "bf354485",
   "metadata": {},
   "source": []
  },
  {
   "cell_type": "markdown",
   "id": "a8d55dea",
   "metadata": {},
   "source": []
  },
  {
   "cell_type": "code",
   "execution_count": null,
   "id": "47b734c9",
   "metadata": {},
   "outputs": [],
   "source": []
  }
 ],
 "metadata": {
  "kernelspec": {
   "display_name": "Python 3",
   "language": "python",
   "name": "python3"
  },
  "language_info": {
   "codemirror_mode": {
    "name": "ipython",
    "version": 3
   },
   "file_extension": ".py",
   "mimetype": "text/x-python",
   "name": "python",
   "nbconvert_exporter": "python",
   "pygments_lexer": "ipython3",
   "version": "3.11.0rc1"
  }
 },
 "nbformat": 4,
 "nbformat_minor": 5
}
